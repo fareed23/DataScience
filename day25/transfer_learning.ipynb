{
 "cells": [
  {
   "cell_type": "markdown",
   "metadata": {},
   "source": [
    "# **Transfer Learning in Deep Learning**"
   ]
  },
  {
   "cell_type": "markdown",
   "metadata": {},
   "source": [
    "### What is transfer learning and how it works?\n",
    "Transfer learning is a subfield of machine learning that focuses on learning from one task and applying it to another task. This is done by reusing parts of a neural network that have been trained for a similar task, thus reducing the amount of data and computational resources required for training the network."
   ]
  },
  {
   "cell_type": "markdown",
   "metadata": {},
   "source": []
  }
 ],
 "metadata": {
  "language_info": {
   "name": "python"
  }
 },
 "nbformat": 4,
 "nbformat_minor": 2
}
