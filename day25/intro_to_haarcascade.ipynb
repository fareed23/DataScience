{
 "cells": [
  {
   "cell_type": "markdown",
   "metadata": {},
   "source": [
    "# Haar Cascade Algorithm"
   ]
  },
  {
   "cell_type": "markdown",
   "metadata": {},
   "source": [
    "Haar cascade is an algorithm that can detect objects in images, irrespective of their scale in image and location.\n",
    "\n",
    "This algorithm is not so complex and can run in real-time. We can train a haar-cascade detector to detect various objects like cars, bikes, buildings, fruits, etc.\n",
    "\n",
    "Haar cascade uses the cascading window, and it tries to compute features in every window and classify whether it could be an object. For more details on its working, refer to this link."
   ]
  },
  {
   "cell_type": "markdown",
   "metadata": {},
   "source": [
    "- Haar cascades are fast and can work well in real-time.\n",
    "- Haar cascade is not as accurate as modern object detection techniques are.\n",
    "- Haar cascade has a downside. It predicts many false positives.\n",
    "- Simple to implement, less computing power required."
   ]
  },
  {
   "cell_type": "markdown",
   "metadata": {},
   "source": []
  }
 ],
 "metadata": {
  "language_info": {
   "name": "python"
  }
 },
 "nbformat": 4,
 "nbformat_minor": 2
}
