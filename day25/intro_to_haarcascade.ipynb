{
 "cells": [
  {
   "cell_type": "markdown",
   "metadata": {},
   "source": [
    "# Haar Cascade Algorithm"
   ]
  },
  {
   "cell_type": "markdown",
   "metadata": {},
   "source": [
    "Haar cascade is an algorithm that can detect objects in images, irrespective of their scale in image and location.\n",
    "\n",
    "This algorithm is not so complex and can run in real-time. We can train a haar-cascade detector to detect various objects like cars, bikes, buildings, fruits, etc.\n",
    "\n",
    "Haar cascade uses the cascading window, and it tries to compute features in every window and classify whether it could be an object. For more details on its working, refer to this link."
   ]
  },
  {
   "cell_type": "markdown",
   "metadata": {},
   "source": [
    "- Haar cascades are fast and can work well in real-time.\n",
    "- Haar cascade is not as accurate as modern object detection techniques are.\n",
    "- Haar cascade has a downside. It predicts many false positives.\n",
    "- Simple to implement, less computing power required."
   ]
  },
  {
   "cell_type": "markdown",
   "metadata": {},
   "source": [
    "Haar cascades are `XML files` that can be used in OpenCV to detect specified objects.\n",
    "\n",
    "Implementing Haar-cascades in OpenCV\n",
    "If you find your target object haar-cascade available in the pre-trained repository provided by OpenCV, you need to download the pre-trained XML file."
   ]
  },
  {
   "cell_type": "code",
   "execution_count": null,
   "metadata": {},
   "outputs": [],
   "source": [
    "import cv2\n",
    "face_detector=cv2.CascadeClassifier('haarcascade_frontalface_default.xml')\n",
    "eye_dectector = cv2.CascadeClassifier('haarcascade_eye.xml')"
   ]
  },
  {
   "cell_type": "markdown",
   "metadata": {},
   "source": [
    "Once cascade is loaded in OpenCV, we can call the detector function."
   ]
  },
  {
   "cell_type": "code",
   "execution_count": null,
   "metadata": {},
   "outputs": [],
   "source": [
    "import cv2\n",
    "img = cv2.imread('./img/path')\n",
    "gray_img = cv2.cvtColor(img)\n",
    "results = face_detector.detectMultiScale(gray_img, scaleFactor=1.05,minNeighbors=5,minSize=(30, 30), flags=cv2.CASCADE_SCALE_IMAGE)"
   ]
  },
  {
   "cell_type": "code",
   "execution_count": 2,
   "metadata": {},
   "outputs": [
    {
     "ename": "NameError",
     "evalue": "name 'face_detector' is not defined",
     "output_type": "error",
     "traceback": [
      "\u001b[0;31m---------------------------------------------------------------------------\u001b[0m",
      "\u001b[0;31mNameError\u001b[0m                                 Traceback (most recent call last)",
      "\u001b[1;32m/Users/fareed/Documents/Python/python_datascience/day25/haarcascade.ipynb Cell 8\u001b[0m line \u001b[0;36m6\n\u001b[1;32m      <a href='vscode-notebook-cell:/Users/fareed/Documents/Python/python_datascience/day25/haarcascade.ipynb#X12sZmlsZQ%3D%3D?line=3'>4</a>\u001b[0m img \u001b[39m=\u001b[39m cv2\u001b[39m.\u001b[39mimread(\u001b[39m'\u001b[39m\u001b[39m./coffee.jpeg\u001b[39m\u001b[39m'\u001b[39m)\n\u001b[1;32m      <a href='vscode-notebook-cell:/Users/fareed/Documents/Python/python_datascience/day25/haarcascade.ipynb#X12sZmlsZQ%3D%3D?line=4'>5</a>\u001b[0m gray \u001b[39m=\u001b[39m cv2\u001b[39m.\u001b[39mcvtColor(img, cv2\u001b[39m.\u001b[39mCOLOR_BGR2GRAY)\n\u001b[0;32m----> <a href='vscode-notebook-cell:/Users/fareed/Documents/Python/python_datascience/day25/haarcascade.ipynb#X12sZmlsZQ%3D%3D?line=5'>6</a>\u001b[0m faces \u001b[39m=\u001b[39m face_detector\u001b[39m.\u001b[39mdetectMultiScale(gray, \u001b[39m1.3\u001b[39m, \u001b[39m5\u001b[39m)\n\u001b[1;32m      <a href='vscode-notebook-cell:/Users/fareed/Documents/Python/python_datascience/day25/haarcascade.ipynb#X12sZmlsZQ%3D%3D?line=6'>7</a>\u001b[0m \u001b[39mfor\u001b[39;00m (x, y, w, h) \u001b[39min\u001b[39;00m faces:\n\u001b[1;32m      <a href='vscode-notebook-cell:/Users/fareed/Documents/Python/python_datascience/day25/haarcascade.ipynb#X12sZmlsZQ%3D%3D?line=7'>8</a>\u001b[0m     cv2\u001b[39m.\u001b[39mrectangle(img, (x, y), (x\u001b[39m+\u001b[39mw, y\u001b[39m+\u001b[39mh), (\u001b[39m0\u001b[39m, \u001b[39m255\u001b[39m, \u001b[39m0\u001b[39m), \u001b[39m2\u001b[39m)\n",
      "\u001b[0;31mNameError\u001b[0m: name 'face_detector' is not defined"
     ]
    }
   ],
   "source": [
    "import numpy as np\n",
    "import cv2\n",
    "\n",
    "img = cv2.imread('./coffee.jpeg')\n",
    "gray = cv2.cvtColor(img, cv2.COLOR_BGR2GRAY)\n",
    "faces = face_detector.detectMultiScale(gray, 1.3, 5)\n",
    "for (x, y, w, h) in faces:\n",
    "    cv2.rectangle(img, (x, y), (x+w, y+h), (0, 255, 0), 2)\n",
    "\n",
    "cv2.imshow('image', img)\n",
    "cv2.waitKey(0)\n",
    "cv2.destroyAllWindows()"
   ]
  },
  {
   "cell_type": "markdown",
   "metadata": {},
   "source": [
    "## Hierarchical Detection\n",
    "Haar cascade can detect multiple objects within a single frame in a hierarchical manner.\n",
    "\n",
    "Imagine we have to detect the faces and eyes of humans. To proceed with this problem, we need to follow the steps:\n",
    "\n",
    "Detect Human faces\n",
    "For every face, crop faces and pass it for eye detection\n",
    "after getting the coordinates of the eyes (ex,ey,ew,eh) draw bounding boxes for the eyes on the original picture\n",
    "draw bounding box for faces using coordinates(x,y,w,h) on the original picture"
   ]
  },
  {
   "cell_type": "markdown",
   "metadata": {},
   "source": [
    "## Object Detection in Real-time\n",
    "So far, we have worked on a single image. The haar-cascade algorithm is light and works in real-time with a perfect frame per second.\n",
    "\n",
    "We will be using OpenCV video cam feed input to take images in real-time (video)."
   ]
  },
  {
   "cell_type": "markdown",
   "metadata": {},
   "source": [
    "## Limitation of Haar Cascade\n",
    "We have seen haar cascade performing very well, but there are several limitations of haar cascade.\n",
    "\n",
    "High false-positive detection\n",
    "Less accurate than deep learning-based techniques\n",
    "Manual tuning of parameters.\n",
    "Training haar cascade on a custom object is not easy."
   ]
  }
 ],
 "metadata": {
  "kernelspec": {
   "display_name": "dl_env",
   "language": "python",
   "name": "python3"
  },
  "language_info": {
   "codemirror_mode": {
    "name": "ipython",
    "version": 3
   },
   "file_extension": ".py",
   "mimetype": "text/x-python",
   "name": "python",
   "nbconvert_exporter": "python",
   "pygments_lexer": "ipython3",
   "version": "3.10.10"
  }
 },
 "nbformat": 4,
 "nbformat_minor": 2
}
