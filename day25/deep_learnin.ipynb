{
 "cells": [
  {
   "cell_type": "markdown",
   "metadata": {},
   "source": [
    "# Deep Learning"
   ]
  },
  {
   "cell_type": "markdown",
   "metadata": {},
   "source": [
    "Differences between Tensorflow and Pytorch?\n",
    "\n",
    "1. Data Handling and Efficiency:\n",
    "\n",
    "Pytorch: PyTorch has built-in data structures for tensors, allowing it to easily manage data in the form of multi-dimensional arrays. This improves efficiency.\n",
    "\n",
    "Tensorflow: TensorFlow, on the other hand, relies on data queues to feed data into the model. While this can work well, it may be less efficient compared to PyTorch.\n",
    "\n",
    "2. GPU Utilization:\n",
    "\n",
    "Pytorch: PyTorch can automatically use the GPU for its operations. It is easy to work with, as you can easily move a tensor from the CPU to the GPU by using the .to(device) or .cuda() method.\n",
    "\n",
    "Tensorflow: In TensorFlow, the use of GPUs for operations requires the explicit use of GPU device scopes. While it's not difficult, it may require more effort compared to PyTorch.\n",
    "\n",
    "3. Tensor Shape Inference:\n",
    "\n",
    "Pytorch: PyTorch generally knows the size of tensors, making it easier to perform operations on tensors of different sizes.\n",
    "\n",
    "Tensorflow: TensorFlow 2.0+ introduced improved shape inference. However, compared to PyTorch, there can still be instances where shape information is not easily available in TensorFlow.\n",
    "\n",
    "4. Dynamic Computation Graphs:\n",
    "\n",
    "Pytorch: PyTorch supports dynamic computation graphs. This allows you to create and modify computation graphs during runtime. This is especially useful when working with complex models.\n",
    "\n",
    "Tensorflow: TensorFlow requires that you define your computation graph before running it. While this can still work for complex models, it may be less flexible than dynamic computation graphs.\n",
    "\n",
    "5. Community and Documentation:\n",
    "\n",
    "Pytorch: PyTorch has a larger community, which can be beneficial for getting help and support. PyTorch's documentation is also considered to be among the best in the industry.\n",
    "\n",
    "Tensorflow: TensorFlow is backed by Google and has a strong community. However, TensorFlow's documentation is considered to be less user-friendly compared to PyTorch's.\n",
    "\n",
    "6. Deployment and Integration:\n",
    "\n",
    "Pytorch: PyTorch provides built-in functionality for model deployment and integration."
   ]
  },
  {
   "cell_type": "markdown",
   "metadata": {},
   "source": []
  }
 ],
 "metadata": {
  "language_info": {
   "name": "python"
  }
 },
 "nbformat": 4,
 "nbformat_minor": 2
}
