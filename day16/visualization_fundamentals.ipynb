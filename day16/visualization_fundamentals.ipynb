{
 "cells": [
  {
   "cell_type": "markdown",
   "metadata": {},
   "source": [
    "# Fundamentals of Visualization"
   ]
  },
  {
   "cell_type": "markdown",
   "metadata": {},
   "source": [
    "### Variable type matters"
   ]
  },
  {
   "cell_type": "markdown",
   "metadata": {},
   "source": [
    "Categorical variable - **Qualitative Variable**\n",
    "- Counts plot type\n",
    "  - Male vs female\n",
    "  - True vs false\n",
    "  - 0 vs 1"
   ]
  },
  {
   "cell_type": "markdown",
   "metadata": {},
   "source": [
    "Continuous variable - **Quantitative Variable**\n",
    "- Scatter plot \n",
    "  - Statistical proportions (means and their proportion)"
   ]
  }
 ],
 "metadata": {
  "language_info": {
   "name": "python"
  },
  "orig_nbformat": 4
 },
 "nbformat": 4,
 "nbformat_minor": 2
}
