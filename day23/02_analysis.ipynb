{
 "cells": [
  {
   "cell_type": "markdown",
   "metadata": {},
   "source": [
    "# **Time Series Analysis**"
   ]
  },
  {
   "cell_type": "markdown",
   "metadata": {},
   "source": [
    "# Time series analysis\n",
    "1. Introduction to time series analysis:\n",
    "    - What is time series analysis?\n",
    "    - Why do we need time series analysis?\n",
    "    - What are the components of time series analysis?\n",
    "    - What are the different types of time series analysis?\n",
    "2. Time series analysis in Python:\n",
    "    - What is time series analysis?\n",
    "    - Why do we need time series analysis?\n",
    "    - What are the components of time series analysis?\n",
    "    - What are the different types of time series analysis?\n",
    "    "
   ]
  },
  {
   "cell_type": "code",
   "execution_count": null,
   "metadata": {},
   "outputs": [],
   "source": []
  }
 ],
 "metadata": {
  "kernelspec": {
   "display_name": "Python 3",
   "language": "python",
   "name": "python3"
  },
  "language_info": {
   "name": "python",
   "version": "3.11.4"
  }
 },
 "nbformat": 4,
 "nbformat_minor": 2
}
