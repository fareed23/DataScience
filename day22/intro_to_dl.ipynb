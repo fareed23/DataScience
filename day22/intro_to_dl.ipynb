{
 "cells": [
  {
   "cell_type": "markdown",
   "metadata": {},
   "source": [
    "# **Introduction of DeepLearning**"
   ]
  },
  {
   "cell_type": "markdown",
   "metadata": {},
   "source": [
    "### It is used to mimic human brain\n",
    "- `Uses Multi Layered Neural Network (NN)`"
   ]
  },
  {
   "cell_type": "markdown",
   "metadata": {},
   "source": [
    "### Different Types of Neural Networks\n",
    "1. `ANN`: Artificial Neural Network\n",
    "2. `CNN`: Convolutional Neural Network\n",
    "3. `RNN`: Recurrent Neural Network"
   ]
  },
  {
   "cell_type": "markdown",
   "metadata": {},
   "source": []
  }
 ],
 "metadata": {
  "language_info": {
   "name": "python"
  },
  "orig_nbformat": 4
 },
 "nbformat": 4,
 "nbformat_minor": 2
}
