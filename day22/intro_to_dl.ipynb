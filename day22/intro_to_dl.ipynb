{
 "cells": [
  {
   "cell_type": "markdown",
   "metadata": {},
   "source": [
    "# **Introduction of DeepLearning**"
   ]
  },
  {
   "cell_type": "markdown",
   "metadata": {},
   "source": [
    "### It is used to mimic human brain\n",
    "- `Uses Multi Layered Neural Network (NN)`"
   ]
  },
  {
   "cell_type": "markdown",
   "metadata": {},
   "source": [
    "### Types of Neural Networks\n",
    "1. `FNN`: Feed forward Neural Network - Used for pattern recognition\n",
    "2. `CNN`: Convolutional Neural Network - Used for images/videos recognition because it is grid like structure.\n",
    "3. `ANN`: Artificial Neural Network\n",
    "4. `RNN`: Recurrent Neural Network"
   ]
  }
 ],
 "metadata": {
  "language_info": {
   "name": "python"
  },
  "orig_nbformat": 4
 },
 "nbformat": 4,
 "nbformat_minor": 2
}
