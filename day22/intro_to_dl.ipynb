{
 "cells": [
  {
   "cell_type": "markdown",
   "metadata": {},
   "source": [
    "# **Introduction of DeepLearning**"
   ]
  },
  {
   "cell_type": "markdown",
   "metadata": {},
   "source": [
    "### It is used to mimic human brain\n",
    "- `Uses Multi Layered Neural Network (NN)`"
   ]
  },
  {
   "cell_type": "markdown",
   "metadata": {},
   "source": [
    "### Types of Neural Networks\n",
    "1. `FNN`: Feed forward Neural Network - Used for pattern recognition in which Information flows in one direction from input to output. \n",
    "\n",
    "2. `CNN`: Convolutional Neural Network - Used for images/videos recognition. Designed for processing data with a grid-like structure like images.\n",
    "\n",
    "3. `RNN`: Recurrent Neural Network - Used for speech recognition which is mainly used in NLP. It is designed for processing sequential data, RNNs have connections that feed back on themselves to allow information to persist (memory). Common types of RNNs include LSTMs and GRUs.\n",
    "\n",
    "4. `LSTM`: Long Short-term Memory Network - Type of RNN capable of learning the pattern of data for a long term memory.\n",
    "\n",
    "5. `Autoencoders`: Used for unsupervised learning, autoencoders compress inputs into a lower-dimensional which can be used for dimensionality reduction as well.\n",
    "\n",
    "6. `GANs`: Generative adversarial networks - Made up of two competing neural networks - a generator and a discriminator. The generator tries to create synthetic inputs that fool the discriminator."
   ]
  },
  {
   "cell_type": "markdown",
   "metadata": {},
   "source": []
  }
 ],
 "metadata": {
  "language_info": {
   "name": "python"
  },
  "orig_nbformat": 4
 },
 "nbformat": 4,
 "nbformat_minor": 2
}
