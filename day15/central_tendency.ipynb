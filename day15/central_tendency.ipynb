{
 "cells": [
  {
   "cell_type": "markdown",
   "metadata": {},
   "source": [
    "# Measure of Central Tendency"
   ]
  },
  {
   "cell_type": "markdown",
   "metadata": {},
   "source": [
    "### Population vs Sample"
   ]
  },
  {
   "cell_type": "markdown",
   "metadata": {},
   "source": [
    "> Population research has more power\n",
    "\n",
    "> Samples are used to reduce the cost of data collection"
   ]
  },
  {
   "cell_type": "markdown",
   "metadata": {},
   "source": [
    "### Notions of Terms\n"
   ]
  },
  {
   "cell_type": "markdown",
   "metadata": {},
   "source": [
    "**N = Size of Population\\\n",
    "n = Size of Sample**"
   ]
  },
  {
   "cell_type": "markdown",
   "metadata": {},
   "source": [
    "- **A population is any specific collection of objects of interest.**"
   ]
  },
  {
   "cell_type": "markdown",
   "metadata": {},
   "source": [
    "- **A sample is any subset or sub-collection of the population including the case that the sample consists of the whole population, in which case is termed as Cencus.**"
   ]
  },
  {
   "cell_type": "markdown",
   "metadata": {},
   "source": [
    "- A measurement is a number or attribute computed for each member of a population or of a sample."
   ]
  },
  {
   "cell_type": "markdown",
   "metadata": {},
   "source": [
    "- A parameter is a number that summarizes the aspect of the population as a whole."
   ]
  },
  {
   "cell_type": "markdown",
   "metadata": {},
   "source": [
    "- A statistic is a number computed from the sample data."
   ]
  },
  {
   "cell_type": "markdown",
   "metadata": {},
   "source": [
    "> **Decriptive Statistics** - organize, analyse, display\n",
    "> \n",
    "> **Inferential Statistics** - drawing conclusions about a poulation based on information contained in a sample taken from that population\n"
   ]
  },
  {
   "cell_type": "markdown",
   "metadata": {},
   "source": [
    "***Quanlitative** - categorical, boolean, (male or female)\\\n",
    "**Quantitative** - numbers, float\\\n",
    "**Mean** - is the sum divided by the number of obsservations (Average)*"
   ]
  },
  {
   "cell_type": "markdown",
   "metadata": {},
   "source": [
    "> **Outliers** - change the means of a data, therefore median is useful"
   ]
  },
  {
   "cell_type": "markdown",
   "metadata": {},
   "source": [
    "> **Median** - the middle number in a sorted, asc or desc, list of numbers"
   ]
  },
  {
   "cell_type": "markdown",
   "metadata": {},
   "source": []
  }
 ],
 "metadata": {
  "language_info": {
   "name": "python"
  },
  "orig_nbformat": 4
 },
 "nbformat": 4,
 "nbformat_minor": 2
}
