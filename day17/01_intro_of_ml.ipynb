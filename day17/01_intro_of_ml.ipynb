{
 "cells": [
  {
   "cell_type": "markdown",
   "metadata": {},
   "source": [
    "# **Machine Learning**"
   ]
  },
  {
   "cell_type": "markdown",
   "metadata": {},
   "source": [
    "- Machine Learning allows machines to learn and make decisions smartly.\n",
    "  \n",
    "- Machines can learn from the data provided or their own experince."
   ]
  },
  {
   "cell_type": "markdown",
   "metadata": {},
   "source": [
    "**ML: Data Driven Desicion Making**"
   ]
  },
  {
   "cell_type": "markdown",
   "metadata": {},
   "source": [
    "- It includes the followings:-\n",
    "  - Data\n",
    "  - Learning\n",
    "  - Predicition \n",
    "  - Decisions"
   ]
  },
  {
   "cell_type": "markdown",
   "metadata": {},
   "source": [
    "## **Types of ML**"
   ]
  },
  {
   "cell_type": "markdown",
   "metadata": {},
   "source": [
    "### **1. Supervised Learning**"
   ]
  },
  {
   "cell_type": "markdown",
   "metadata": {},
   "source": [
    "- Uses labelled data\n",
    "- 80 % input data and 20% training model learning patterns of data\n",
    "  - Works under supervision\n",
    "  - Teacher teaches\n",
    "  - Prediction\n",
    "  - Outcome"
   ]
  },
  {
   "cell_type": "markdown",
   "metadata": {},
   "source": [
    "**Types:**\n",
    "- Classification\n",
    "  - For Cateogrical Data\n",
    "- Regression\n",
    "  - For numerical Data"
   ]
  },
  {
   "cell_type": "markdown",
   "metadata": {},
   "source": [
    "> #### **Supervised Learning Algorithms:**\n",
    "- Logistic Regression\n",
    "- K-Nearest Neighbour (KNN)\n",
    "- Support Vector Machine (SVM)\n",
    "- Kernel SVM\n",
    "- Naive Bayes\n",
    "- Decision Tree Classification\n",
    "- Random Forest Classification"
   ]
  },
  {
   "cell_type": "markdown",
   "metadata": {},
   "source": [
    "### **2. Unsupervised Learning**"
   ]
  },
  {
   "cell_type": "markdown",
   "metadata": {},
   "source": [
    "- Uses unlabelled data\n",
    "- Training model and learning patterns of data (By making different groups - Clustering)\n",
    "- Prediction\n",
    "- Outputs and reports\n",
    "  - No supervision\n",
    "  - No teacher\n",
    "  - Self Learning\n",
    "  - No labelling of data\n",
    "  - Find patterns by itself"
   ]
  },
  {
   "cell_type": "markdown",
   "metadata": {},
   "source": [
    "> #### **Unsupervised Learning Algorithms**\n",
    "- K-Means Clustering\n",
    "- Hierarchical Clustering\n",
    "- Probabilistic Clustering\n",
    "- Dimensionality Reduction Techniques\n",
    "- Anomaly Detection\n",
    "- Association Rule Learning"
   ]
  },
  {
   "cell_type": "markdown",
   "metadata": {},
   "source": [
    "### 3. **Semi-supervised Learning**"
   ]
  },
  {
   "cell_type": "markdown",
   "metadata": {},
   "source": [
    "- Some labelled data and some unlabelled data\n",
    "- Mixture of Supervised and Unsupervised\n",
    "- Some data is labelled and most is not\n",
    "  - Input data\n",
    "  - Training models and learning patterns of data\n",
    "  - Prediction \n",
    "  - Ouputs and reports"
   ]
  },
  {
   "cell_type": "markdown",
   "metadata": {},
   "source": [
    "### **4. Reinforcement Learning**"
   ]
  },
  {
   "cell_type": "markdown",
   "metadata": {},
   "source": [
    "- Hit and Trial Learning\n",
    "- Learn from mistakes\n",
    "- Reward and punishment\n",
    "- Prediction based on reward and punishment\n",
    "- Depends on feedback\n",
    "  - Input Data\n",
    "  - Training model and learning patterns of data\n",
    "  - Prediction\n",
    "  - Output and Reports"
   ]
  },
  {
   "cell_type": "markdown",
   "metadata": {},
   "source": [
    "> #### **Reinforcement Learning Algorithms**\n",
    "- Model Free Reinforcement Learning\n",
    "  - Policy Optimization\n",
    "  - Q-Learning\n",
    "- Model-Based Reinforcement Learning\n",
    "  - Learn the Model\n",
    "  - Give the Model"
   ]
  },
  {
   "cell_type": "code",
   "execution_count": null,
   "metadata": {
    "vscode": {
     "languageId": "plaintext"
    }
   },
   "outputs": [],
   "source": [
    "# Assignment to write few lines of description about each algorithm"
   ]
  }
 ],
 "metadata": {
  "language_info": {
   "name": "python"
  },
  "orig_nbformat": 4
 },
 "nbformat": 4,
 "nbformat_minor": 2
}
