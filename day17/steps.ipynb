{
 "cells": [
  {
   "cell_type": "markdown",
   "metadata": {},
   "source": [
    "# Steps:-"
   ]
  },
  {
   "cell_type": "markdown",
   "metadata": {},
   "source": [
    "### **Step 1: Normality Test**"
   ]
  },
  {
   "cell_type": "markdown",
   "metadata": {},
   "source": [
    "### **Step 2: Homogeneity Test**"
   ]
  },
  {
   "cell_type": "markdown",
   "metadata": {},
   "source": [
    "### **Step 3: Purpose**\n",
    "- Two types of Purposes\n",
    "    - Comparison\n",
    "    - Relationship"
   ]
  },
  {
   "cell_type": "markdown",
   "metadata": {},
   "source": [
    "### **Step 4: Data Type**\n",
    "- Two types of variables\n",
    "\n",
    "  - Categorical Variable - Qualitative \n",
    "  - Continuous Variable - Quantitative"
   ]
  },
  {
   "cell_type": "markdown",
   "metadata": {},
   "source": [
    "### **Step 5: Statistical Test**\n",
    "- Three main families\n",
    "  \n",
    "  - Chi-Squared - Purpose: Comparison, Data: Categorical only\n",
    "  \n",
    "  - t-Test/ANOVA - Purpose: Comparison, Data: Categorical and Continuous\n",
    "\n",
    "  - Correlation - Purpose: Relationship, Data: Continuous"
   ]
  },
  {
   "cell_type": "markdown",
   "metadata": {},
   "source": []
  }
 ],
 "metadata": {
  "language_info": {
   "name": "python"
  },
  "orig_nbformat": 4
 },
 "nbformat": 4,
 "nbformat_minor": 2
}
